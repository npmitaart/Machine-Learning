{
 "cells": [
  {
   "cell_type": "code",
   "execution_count": 1,
   "metadata": {},
   "outputs": [],
   "source": [
    "#import libraries\n",
    "import pandas as pd\n",
    "import matplotlib.pyplot as plt\n",
    "import numpy as np\n",
    "import seaborn as sb\n",
    "from sklearn.model_selection import train_test_split\n",
    "from sklearn.metrics import r2_score, mean_absolute_error, mean_squared_error, accuracy_score\n",
    "from sklearn.neighbors import KNeighborsClassifier\n",
    "from sklearn import preprocessing"
   ]
  },
  {
   "cell_type": "code",
   "execution_count": 5,
   "metadata": {},
   "outputs": [
    {
     "output_type": "stream",
     "name": "stdout",
     "text": "passenger_id      int64\npclass            int64\nname             object\nsex              object\nage             float64\nsibsp             int64\nparch             int64\nticket           object\nfare            float64\ncabin            object\nembarked         object\nboat             object\nbody            float64\nhome.dest        object\nsurvived          int64\ndtype: object\nTrue\npassenger_id      0\npclass            0\nname              0\nsex               0\nage             174\nsibsp             0\nparch             0\nticket            0\nfare              1\ncabin           659\nembarked          1\nboat            542\nbody            777\nhome.dest       386\nsurvived          0\ndtype: int64\n"
    }
   ],
   "source": [
    "#load data\n",
    "df = pd.read_csv(\"titanic_train.csv\")\n",
    "\n",
    "#check features type\n",
    "print(df.dtypes)\n",
    "\n",
    "#check NaN or null values\n",
    "print(df.isna().values.any())\n",
    "\n",
    "#dcheck total missing values\n",
    "print(df.isnull().sum())\n"
   ]
  },
  {
   "cell_type": "code",
   "execution_count": null,
   "metadata": {},
   "outputs": [],
   "source": [
    "#data cleansing per feature\n",
    "#replace using median"
   ]
  }
 ],
 "metadata": {
  "language_info": {
   "codemirror_mode": {
    "name": "ipython",
    "version": 3
   },
   "file_extension": ".py",
   "mimetype": "text/x-python",
   "name": "python",
   "nbconvert_exporter": "python",
   "pygments_lexer": "ipython3",
   "version": "3.7.4-final"
  },
  "orig_nbformat": 2,
  "kernelspec": {
   "name": "python3",
   "display_name": "Python 3"
  }
 },
 "nbformat": 4,
 "nbformat_minor": 2
}