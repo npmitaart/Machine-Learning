{
 "cells": [
  {
   "cell_type": "code",
   "execution_count": null,
   "metadata": {},
   "outputs": [],
   "source": [
    "#UTS ANN - Giodio Mitaart"
   ]
  },
  {
   "cell_type": "code",
   "execution_count": 1,
   "metadata": {},
   "outputs": [],
   "source": [
    "#import libraries\n",
    "import numpy as np\n",
    "import pandas as pd"
   ]
  },
  {
   "cell_type": "code",
   "execution_count": 2,
   "metadata": {},
   "outputs": [],
   "source": [
    "###TRAINING STAGE\n",
    "#init variable\n",
    "learningRate = 1\n",
    "epoch = 1000"
   ]
  },
  {
   "cell_type": "code",
   "execution_count": 3,
   "metadata": {},
   "outputs": [],
   "source": [
    "data = np.array(\n",
    "[   \n",
    "    [[0,0,0,0,0,0,0,0,0,\n",
    "      0,0,0,0,1,0,0,0,0,\n",
    "      0,0,1,0,1,0,1,0,0,\n",
    "      0,0,1,1,1,1,1,0,0,\n",
    "      0,0,1,1,1,1,1,0,0,\n",
    "      0,0,1,1,1,1,1,0,0,\n",
    "      0,0,1,1,1,1,1,0,0,\n",
    "      0,0,1,0,0,0,1,0,0,\n",
    "      0,0,0,0,0,0,0,0,0,1],1],\n",
    "\n",
    "    [[0,0,0,0,0,0,0,0,0,\n",
    "      0,0,0,0,1,0,0,0,0,\n",
    "      0,0,0,1,1,1,0,0,0,\n",
    "      0,0,1,1,1,1,1,0,0,\n",
    "      0,1,1,1,1,1,1,1,0,\n",
    "      0,1,0,0,1,1,0,1,0,\n",
    "      0,1,1,1,1,1,1,1,0,\n",
    "      0,1,1,1,1,1,1,1,0,\n",
    "      0,0,0,0,0,0,0,0,0,1],0]\n",
    "\n",
    "]\n",
    ")"
   ]
  },
  {
   "cell_type": "code",
   "execution_count": 4,
   "metadata": {},
   "outputs": [],
   "source": [
    "#init weight\n",
    "def init_weights():\n",
    "    global syn0\n",
    "    syn0 = np.zeros((82, 1))"
   ]
  },
  {
   "cell_type": "code",
   "execution_count": null,
   "metadata": {},
   "outputs": [],
   "source": [
    "#activation function\n",
    "def actFunction(x):\n",
    "    if x is int:\n",
    "        return 0 if x < 0 else 1\n",
    "    else:\n",
    "        return [(0 if num < 0 else 1)for num in x]"
   ]
  }
 ],
 "metadata": {
  "language_info": {
   "codemirror_mode": {
    "name": "ipython",
    "version": 3
   },
   "file_extension": ".py",
   "mimetype": "text/x-python",
   "name": "python",
   "nbconvert_exporter": "python",
   "pygments_lexer": "ipython3",
   "version": "3.7.4-final"
  },
  "orig_nbformat": 2,
  "kernelspec": {
   "name": "python3",
   "display_name": "Python 3"
  }
 },
 "nbformat": 4,
 "nbformat_minor": 2
}