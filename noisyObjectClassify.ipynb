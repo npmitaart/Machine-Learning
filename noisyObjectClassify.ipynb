{
 "cells": [
  {
   "cell_type": "code",
   "execution_count": null,
   "metadata": {},
   "outputs": [],
   "source": [
    "#UTS ANN - Giodio Mitaart"
   ]
  },
  {
   "cell_type": "code",
   "execution_count": 19,
   "metadata": {},
   "outputs": [],
   "source": [
    "#import libraries\n",
    "import numpy as np\n",
    "import pandas as pd\n",
    "import random"
   ]
  },
  {
   "cell_type": "code",
   "execution_count": 20,
   "metadata": {},
   "outputs": [],
   "source": [
    "###TRAINING STAGE\n",
    "#init variable\n",
    "learningRate = 1\n",
    "epoch = 1000"
   ]
  },
  {
   "cell_type": "code",
   "execution_count": 21,
   "metadata": {},
   "outputs": [],
   "source": [
    "data = np.array(\n",
    "[   \n",
    "    [[0,0,0,0,0,0,0,0,0,\n",
    "      0,0,0,0,1,0,0,0,0,\n",
    "      0,0,1,0,1,0,1,0,0,\n",
    "      0,0,1,1,1,1,1,0,0,\n",
    "      0,0,1,1,1,1,1,0,0,\n",
    "      0,0,1,1,1,1,1,0,0,\n",
    "      0,0,1,1,1,1,1,0,0,\n",
    "      0,0,1,0,0,0,1,0,0,\n",
    "      0,0,0,0,0,0,0,0,0,1],1],\n",
    "\n",
    "    [[0,0,0,0,0,0,0,0,0,\n",
    "      0,0,0,0,1,0,0,0,0,\n",
    "      0,0,0,1,1,1,0,0,0,\n",
    "      0,0,1,1,1,1,1,0,0,\n",
    "      0,1,1,1,1,1,1,1,0,\n",
    "      0,1,0,0,1,1,0,1,0,\n",
    "      0,1,1,1,1,1,1,1,0,\n",
    "      0,1,1,1,1,1,1,1,0,\n",
    "      0,0,0,0,0,0,0,0,0,1],0]\n",
    "\n",
    "]\n",
    ")"
   ]
  },
  {
   "cell_type": "code",
   "execution_count": 22,
   "metadata": {},
   "outputs": [],
   "source": [
    "#init weight\n",
    "def init_weights():\n",
    "    global syn0\n",
    "    syn0 = np.zeros((82, 1))"
   ]
  },
  {
   "cell_type": "code",
   "execution_count": 23,
   "metadata": {},
   "outputs": [],
   "source": [
    "#activation function\n",
    "def actFunction(x):\n",
    "    if x is int:\n",
    "        return 0 if x < 0 else 1\n",
    "    else:\n",
    "        return [(0 if num < 0 else 1)for num in x]\n",
    "\n",
    "def feedForward(X):\n",
    "    l1_accumulation = np.dot(X, syn0)\n",
    "    l1_activation = actFunction(l1_accumulation)\n",
    "    return l1_accumulation"
   ]
  },
  {
   "cell_type": "code",
   "execution_count": 29,
   "metadata": {
    "tags": []
   },
   "outputs": [
    {
     "output_type": "stream",
     "name": "stdout",
     "text": "epoch: 100, error: [1.34096157e+137] with data 0\nepoch: 200, error: [2.4867336e+276] with data 1\nepoch: 300, error: [nan] with data 1\nepoch: 400, error: [nan] with data 1\nepoch: 500, error: [nan] with data 1\nepoch: 600, error: [nan] with data 0\nepoch: 700, error: [nan] with data 0\nepoch: 800, error: [nan] with data 1\nepoch: 900, error: [nan] with data 0\nepoch: 1000, error: [nan] with data 1\n"
    }
   ],
   "source": [
    "init_weights()\n",
    "\n",
    "def getIdx(target):\n",
    "    for i in range(2):\n",
    "        if data[i][1] == target:\n",
    "            return i\n",
    "\n",
    "for loop in range(1, epoch+1):\n",
    "    current_data = random.choice(data)\n",
    "    input_data, target = current_data\n",
    "\n",
    "    output = feedForward(input_data)\n",
    "    error = np.subtract(target, output)\n",
    "    if loop%(epoch/10) == 0:\n",
    "        print(f\"epoch: {loop}, error: {error} with data {getIdx(target)}\")\n",
    "\n",
    "    syn0_gradient = np.multiply(input_data, error)\n",
    "    syn0 = (syn0.T + (learningRate*syn0_gradient)).T"
   ]
  },
  {
   "cell_type": "code",
   "execution_count": 30,
   "metadata": {},
   "outputs": [],
   "source": [
    "#testing stage\n",
    "test_data_amount = 500+2\n",
    "#2 test data comes from input itself"
   ]
  },
  {
   "cell_type": "code",
   "execution_count": 31,
   "metadata": {},
   "outputs": [],
   "source": [
    "test_input = []\n",
    "test_target = []\n",
    "\n",
    "for test_data_num in range (test_data_amount-2):\n",
    "    choice = random.choice(data)\n",
    "    new_input = choice[0].copy()\n",
    "    new_target = choice[1]\n",
    "\n",
    "    flip_amount = random.randint(0, 20) #range of noise\n",
    "\n",
    "    for flip in range(flip_amount):\n",
    "        position_to_flip = random.randint(0, 80) #chosee random pixel to flip\n",
    "\n",
    "        #flip 1 to 0\n",
    "        new_input[position_to_flip] = 1-new_input[position_to_flip]\n",
    "\n",
    "    test_input.append(new_input)\n",
    "    test_target.append(new_target)\n",
    "\n",
    "#include train data to be tested\n",
    "for train_data in data:\n",
    "    test_input.append(train_data[0])\n",
    "    test_target.append(train_data[1])\n",
    "\n",
    "test_input = np.array(test_input)\n",
    "test_target = np.array(test_target)"
   ]
  },
  {
   "cell_type": "code",
   "execution_count": 37,
   "metadata": {},
   "outputs": [
    {
     "output_type": "error",
     "ename": "TypeError",
     "evalue": "type numpy.ndarray doesn't define __round__ method",
     "traceback": [
      "\u001b[0;31m---------------------------------------------------------------------------\u001b[0m",
      "\u001b[0;31mTypeError\u001b[0m                                 Traceback (most recent call last)",
      "\u001b[0;32m<ipython-input-37-96de90b41088>\u001b[0m in \u001b[0;36m<module>\u001b[0;34m\u001b[0m\n\u001b[1;32m      1\u001b[0m \u001b[0;31m#testing\u001b[0m\u001b[0;34m\u001b[0m\u001b[0;34m\u001b[0m\u001b[0;34m\u001b[0m\u001b[0m\n\u001b[1;32m      2\u001b[0m \u001b[0mtest_output\u001b[0m \u001b[0;34m=\u001b[0m \u001b[0mfeedForward\u001b[0m\u001b[0;34m(\u001b[0m\u001b[0mtest_input\u001b[0m\u001b[0;34m)\u001b[0m\u001b[0;34m\u001b[0m\u001b[0;34m\u001b[0m\u001b[0m\n\u001b[0;32m----> 3\u001b[0;31m \u001b[0mtest_output_rounded\u001b[0m \u001b[0;34m=\u001b[0m \u001b[0;34m[\u001b[0m\u001b[0mround\u001b[0m\u001b[0;34m(\u001b[0m\u001b[0mx\u001b[0m\u001b[0;34m)\u001b[0m \u001b[0;32mfor\u001b[0m \u001b[0mx\u001b[0m \u001b[0;32min\u001b[0m \u001b[0mtest_output\u001b[0m\u001b[0;34m]\u001b[0m\u001b[0;34m\u001b[0m\u001b[0;34m\u001b[0m\u001b[0m\n\u001b[0m",
      "\u001b[0;32m<ipython-input-37-96de90b41088>\u001b[0m in \u001b[0;36m<listcomp>\u001b[0;34m(.0)\u001b[0m\n\u001b[1;32m      1\u001b[0m \u001b[0;31m#testing\u001b[0m\u001b[0;34m\u001b[0m\u001b[0;34m\u001b[0m\u001b[0;34m\u001b[0m\u001b[0m\n\u001b[1;32m      2\u001b[0m \u001b[0mtest_output\u001b[0m \u001b[0;34m=\u001b[0m \u001b[0mfeedForward\u001b[0m\u001b[0;34m(\u001b[0m\u001b[0mtest_input\u001b[0m\u001b[0;34m)\u001b[0m\u001b[0;34m\u001b[0m\u001b[0;34m\u001b[0m\u001b[0m\n\u001b[0;32m----> 3\u001b[0;31m \u001b[0mtest_output_rounded\u001b[0m \u001b[0;34m=\u001b[0m \u001b[0;34m[\u001b[0m\u001b[0mround\u001b[0m\u001b[0;34m(\u001b[0m\u001b[0mx\u001b[0m\u001b[0;34m)\u001b[0m \u001b[0;32mfor\u001b[0m \u001b[0mx\u001b[0m \u001b[0;32min\u001b[0m \u001b[0mtest_output\u001b[0m\u001b[0;34m]\u001b[0m\u001b[0;34m\u001b[0m\u001b[0;34m\u001b[0m\u001b[0m\n\u001b[0m",
      "\u001b[0;31mTypeError\u001b[0m: type numpy.ndarray doesn't define __round__ method"
     ]
    }
   ],
   "source": [
    "#testing\n",
    "test_output = feedForward(test_input)\n",
    "test_output_rounded = [round(x) for x in test_output]"
   ]
  },
  {
   "cell_type": "code",
   "execution_count": null,
   "metadata": {},
   "outputs": [],
   "source": []
  }
 ],
 "metadata": {
  "language_info": {
   "codemirror_mode": {
    "name": "ipython",
    "version": 3
   },
   "file_extension": ".py",
   "mimetype": "text/x-python",
   "name": "python",
   "nbconvert_exporter": "python",
   "pygments_lexer": "ipython3",
   "version": "3.7.4-final"
  },
  "orig_nbformat": 2,
  "kernelspec": {
   "name": "python3",
   "display_name": "Python 3"
  }
 },
 "nbformat": 4,
 "nbformat_minor": 2
}